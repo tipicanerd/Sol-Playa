{
 "cells": [
  {
   "cell_type": "code",
   "execution_count": 1,
   "metadata": {},
   "outputs": [],
   "source": [
    "import matplotlib.pyplot as plt\n",
    "import numpy as np\n",
    "import pandas as pd\n",
    "import seaborn as sns"
   ]
  },
  {
   "cell_type": "code",
   "execution_count": 2,
   "metadata": {},
   "outputs": [
    {
     "data": {
      "text/html": [
       "<div>\n",
       "<style scoped>\n",
       "    .dataframe tbody tr th:only-of-type {\n",
       "        vertical-align: middle;\n",
       "    }\n",
       "\n",
       "    .dataframe tbody tr th {\n",
       "        vertical-align: top;\n",
       "    }\n",
       "\n",
       "    .dataframe thead th {\n",
       "        text-align: right;\n",
       "    }\n",
       "</style>\n",
       "<table border=\"1\" class=\"dataframe\">\n",
       "  <thead>\n",
       "    <tr style=\"text-align: right;\">\n",
       "      <th></th>\n",
       "      <th>city_ta</th>\n",
       "      <th>comments_ta</th>\n",
       "      <th>name</th>\n",
       "      <th>prices_ta</th>\n",
       "      <th>quality_price_ta</th>\n",
       "      <th>rating_ta</th>\n",
       "      <th>stars_ta</th>\n",
       "      <th>rank_ta</th>\n",
       "      <th>heredados_ta</th>\n",
       "      <th>total_heredados_ta</th>\n",
       "      <th>...</th>\n",
       "      <th>acceso/comunicacion_bk</th>\n",
       "      <th>total_acceso/comunicacion_bk</th>\n",
       "      <th>entretenimiento/deporte_bk</th>\n",
       "      <th>total_entretenimiento/deporte_bk</th>\n",
       "      <th>inclusion</th>\n",
       "      <th>total_inclusion</th>\n",
       "      <th>ninios_bk</th>\n",
       "      <th>total_ninios_bk</th>\n",
       "      <th>comida/bebida_bk</th>\n",
       "      <th>total_comida/bebida_bk</th>\n",
       "    </tr>\n",
       "  </thead>\n",
       "  <tbody>\n",
       "    <tr>\n",
       "      <th>0</th>\n",
       "      <td>Bacalar</td>\n",
       "      <td>3</td>\n",
       "      <td>Hotel Seyba Bakalar</td>\n",
       "      <td>3000.0</td>\n",
       "      <td>0.0</td>\n",
       "      <td>1.5</td>\n",
       "      <td>0.0</td>\n",
       "      <td>5</td>\n",
       "      <td>0</td>\n",
       "      <td>0</td>\n",
       "      <td>...</td>\n",
       "      <td>1</td>\n",
       "      <td>2</td>\n",
       "      <td>1</td>\n",
       "      <td>1</td>\n",
       "      <td>0</td>\n",
       "      <td>0</td>\n",
       "      <td>1</td>\n",
       "      <td>1</td>\n",
       "      <td>0</td>\n",
       "      <td>0</td>\n",
       "    </tr>\n",
       "    <tr>\n",
       "      <th>1</th>\n",
       "      <td>Bacalar</td>\n",
       "      <td>1</td>\n",
       "      <td>Siyan Ka'an Bak'halal</td>\n",
       "      <td>NaN</td>\n",
       "      <td>0.0</td>\n",
       "      <td>1.0</td>\n",
       "      <td>0.0</td>\n",
       "      <td>13</td>\n",
       "      <td>0</td>\n",
       "      <td>0</td>\n",
       "      <td>...</td>\n",
       "      <td>1</td>\n",
       "      <td>3</td>\n",
       "      <td>1</td>\n",
       "      <td>5</td>\n",
       "      <td>0</td>\n",
       "      <td>0</td>\n",
       "      <td>0</td>\n",
       "      <td>0</td>\n",
       "      <td>1</td>\n",
       "      <td>1</td>\n",
       "    </tr>\n",
       "    <tr>\n",
       "      <th>2</th>\n",
       "      <td>Bacalar</td>\n",
       "      <td>238</td>\n",
       "      <td>Villas Ecotucan</td>\n",
       "      <td>NaN</td>\n",
       "      <td>3.5</td>\n",
       "      <td>3.5</td>\n",
       "      <td>0.0</td>\n",
       "      <td>19</td>\n",
       "      <td>1</td>\n",
       "      <td>1</td>\n",
       "      <td>...</td>\n",
       "      <td>1</td>\n",
       "      <td>2</td>\n",
       "      <td>1</td>\n",
       "      <td>7</td>\n",
       "      <td>0</td>\n",
       "      <td>0</td>\n",
       "      <td>1</td>\n",
       "      <td>1</td>\n",
       "      <td>0</td>\n",
       "      <td>0</td>\n",
       "    </tr>\n",
       "    <tr>\n",
       "      <th>3</th>\n",
       "      <td>Bacalar</td>\n",
       "      <td>197</td>\n",
       "      <td>Hostal &amp; Suites Pata de Perro</td>\n",
       "      <td>562.0</td>\n",
       "      <td>4.5</td>\n",
       "      <td>4.5</td>\n",
       "      <td>0.0</td>\n",
       "      <td>22</td>\n",
       "      <td>0</td>\n",
       "      <td>0</td>\n",
       "      <td>...</td>\n",
       "      <td>1</td>\n",
       "      <td>2</td>\n",
       "      <td>1</td>\n",
       "      <td>1</td>\n",
       "      <td>0</td>\n",
       "      <td>0</td>\n",
       "      <td>1</td>\n",
       "      <td>1</td>\n",
       "      <td>1</td>\n",
       "      <td>1</td>\n",
       "    </tr>\n",
       "    <tr>\n",
       "      <th>4</th>\n",
       "      <td>Bacalar</td>\n",
       "      <td>128</td>\n",
       "      <td>Hotel Hacienda Bacalar</td>\n",
       "      <td>950.0</td>\n",
       "      <td>4.0</td>\n",
       "      <td>3.5</td>\n",
       "      <td>3.0</td>\n",
       "      <td>23</td>\n",
       "      <td>0</td>\n",
       "      <td>0</td>\n",
       "      <td>...</td>\n",
       "      <td>1</td>\n",
       "      <td>1</td>\n",
       "      <td>1</td>\n",
       "      <td>1</td>\n",
       "      <td>0</td>\n",
       "      <td>0</td>\n",
       "      <td>1</td>\n",
       "      <td>2</td>\n",
       "      <td>0</td>\n",
       "      <td>0</td>\n",
       "    </tr>\n",
       "    <tr>\n",
       "      <th>...</th>\n",
       "      <td>...</td>\n",
       "      <td>...</td>\n",
       "      <td>...</td>\n",
       "      <td>...</td>\n",
       "      <td>...</td>\n",
       "      <td>...</td>\n",
       "      <td>...</td>\n",
       "      <td>...</td>\n",
       "      <td>...</td>\n",
       "      <td>...</td>\n",
       "      <td>...</td>\n",
       "      <td>...</td>\n",
       "      <td>...</td>\n",
       "      <td>...</td>\n",
       "      <td>...</td>\n",
       "      <td>...</td>\n",
       "      <td>...</td>\n",
       "      <td>...</td>\n",
       "      <td>...</td>\n",
       "      <td>...</td>\n",
       "      <td>...</td>\n",
       "    </tr>\n",
       "    <tr>\n",
       "      <th>117</th>\n",
       "      <td>Todos Santos</td>\n",
       "      <td>95</td>\n",
       "      <td>Paradero Todos Santos - Experience Inclusive</td>\n",
       "      <td>12756.0</td>\n",
       "      <td>4.5</td>\n",
       "      <td>4.5</td>\n",
       "      <td>0.0</td>\n",
       "      <td>3</td>\n",
       "      <td>0</td>\n",
       "      <td>0</td>\n",
       "      <td>...</td>\n",
       "      <td>1</td>\n",
       "      <td>7</td>\n",
       "      <td>1</td>\n",
       "      <td>15</td>\n",
       "      <td>0</td>\n",
       "      <td>0</td>\n",
       "      <td>0</td>\n",
       "      <td>0</td>\n",
       "      <td>1</td>\n",
       "      <td>4</td>\n",
       "    </tr>\n",
       "    <tr>\n",
       "      <th>118</th>\n",
       "      <td>Todos Santos</td>\n",
       "      <td>69</td>\n",
       "      <td>Perro Surfero-Outsite Todos Santos</td>\n",
       "      <td>2199.0</td>\n",
       "      <td>5.0</td>\n",
       "      <td>4.5</td>\n",
       "      <td>0.0</td>\n",
       "      <td>6</td>\n",
       "      <td>0</td>\n",
       "      <td>0</td>\n",
       "      <td>...</td>\n",
       "      <td>1</td>\n",
       "      <td>2</td>\n",
       "      <td>1</td>\n",
       "      <td>11</td>\n",
       "      <td>0</td>\n",
       "      <td>0</td>\n",
       "      <td>1</td>\n",
       "      <td>3</td>\n",
       "      <td>1</td>\n",
       "      <td>4</td>\n",
       "    </tr>\n",
       "    <tr>\n",
       "      <th>119</th>\n",
       "      <td>Todos Santos</td>\n",
       "      <td>6</td>\n",
       "      <td>Hotel Casa Morelos</td>\n",
       "      <td>NaN</td>\n",
       "      <td>4.0</td>\n",
       "      <td>4.0</td>\n",
       "      <td>0.0</td>\n",
       "      <td>8</td>\n",
       "      <td>0</td>\n",
       "      <td>0</td>\n",
       "      <td>...</td>\n",
       "      <td>1</td>\n",
       "      <td>1</td>\n",
       "      <td>1</td>\n",
       "      <td>1</td>\n",
       "      <td>0</td>\n",
       "      <td>0</td>\n",
       "      <td>0</td>\n",
       "      <td>0</td>\n",
       "      <td>0</td>\n",
       "      <td>0</td>\n",
       "    </tr>\n",
       "    <tr>\n",
       "      <th>120</th>\n",
       "      <td>Todos Santos</td>\n",
       "      <td>13</td>\n",
       "      <td>Todos Santos Hostel super fast and stable sate...</td>\n",
       "      <td>NaN</td>\n",
       "      <td>5.0</td>\n",
       "      <td>4.5</td>\n",
       "      <td>0.0</td>\n",
       "      <td>9</td>\n",
       "      <td>0</td>\n",
       "      <td>0</td>\n",
       "      <td>...</td>\n",
       "      <td>1</td>\n",
       "      <td>4</td>\n",
       "      <td>1</td>\n",
       "      <td>13</td>\n",
       "      <td>0</td>\n",
       "      <td>0</td>\n",
       "      <td>0</td>\n",
       "      <td>0</td>\n",
       "      <td>1</td>\n",
       "      <td>6</td>\n",
       "    </tr>\n",
       "    <tr>\n",
       "      <th>121</th>\n",
       "      <td>Todos Santos</td>\n",
       "      <td>103</td>\n",
       "      <td>Hacienda Todos Los Santos</td>\n",
       "      <td>4085.0</td>\n",
       "      <td>4.5</td>\n",
       "      <td>5.0</td>\n",
       "      <td>5.0</td>\n",
       "      <td>18</td>\n",
       "      <td>0</td>\n",
       "      <td>0</td>\n",
       "      <td>...</td>\n",
       "      <td>1</td>\n",
       "      <td>1</td>\n",
       "      <td>1</td>\n",
       "      <td>3</td>\n",
       "      <td>0</td>\n",
       "      <td>0</td>\n",
       "      <td>1</td>\n",
       "      <td>1</td>\n",
       "      <td>1</td>\n",
       "      <td>1</td>\n",
       "    </tr>\n",
       "  </tbody>\n",
       "</table>\n",
       "<p>122 rows × 36 columns</p>\n",
       "</div>"
      ],
      "text/plain": [
       "          city_ta  comments_ta  \\\n",
       "0         Bacalar            3   \n",
       "1         Bacalar            1   \n",
       "2         Bacalar          238   \n",
       "3         Bacalar          197   \n",
       "4         Bacalar          128   \n",
       "..            ...          ...   \n",
       "117  Todos Santos           95   \n",
       "118  Todos Santos           69   \n",
       "119  Todos Santos            6   \n",
       "120  Todos Santos           13   \n",
       "121  Todos Santos          103   \n",
       "\n",
       "                                                  name  prices_ta  \\\n",
       "0                                  Hotel Seyba Bakalar     3000.0   \n",
       "1                                Siyan Ka'an Bak'halal        NaN   \n",
       "2                                      Villas Ecotucan        NaN   \n",
       "3                        Hostal & Suites Pata de Perro      562.0   \n",
       "4                               Hotel Hacienda Bacalar      950.0   \n",
       "..                                                 ...        ...   \n",
       "117       Paradero Todos Santos - Experience Inclusive    12756.0   \n",
       "118                 Perro Surfero-Outsite Todos Santos     2199.0   \n",
       "119                                 Hotel Casa Morelos        NaN   \n",
       "120  Todos Santos Hostel super fast and stable sate...        NaN   \n",
       "121                          Hacienda Todos Los Santos     4085.0   \n",
       "\n",
       "     quality_price_ta  rating_ta  stars_ta  rank_ta  heredados_ta  \\\n",
       "0                 0.0        1.5       0.0        5             0   \n",
       "1                 0.0        1.0       0.0       13             0   \n",
       "2                 3.5        3.5       0.0       19             1   \n",
       "3                 4.5        4.5       0.0       22             0   \n",
       "4                 4.0        3.5       3.0       23             0   \n",
       "..                ...        ...       ...      ...           ...   \n",
       "117               4.5        4.5       0.0        3             0   \n",
       "118               5.0        4.5       0.0        6             0   \n",
       "119               4.0        4.0       0.0        8             0   \n",
       "120               5.0        4.5       0.0        9             0   \n",
       "121               4.5        5.0       5.0       18             0   \n",
       "\n",
       "     total_heredados_ta  ...  acceso/comunicacion_bk  \\\n",
       "0                     0  ...                       1   \n",
       "1                     0  ...                       1   \n",
       "2                     1  ...                       1   \n",
       "3                     0  ...                       1   \n",
       "4                     0  ...                       1   \n",
       "..                  ...  ...                     ...   \n",
       "117                   0  ...                       1   \n",
       "118                   0  ...                       1   \n",
       "119                   0  ...                       1   \n",
       "120                   0  ...                       1   \n",
       "121                   0  ...                       1   \n",
       "\n",
       "     total_acceso/comunicacion_bk  entretenimiento/deporte_bk  \\\n",
       "0                               2                           1   \n",
       "1                               3                           1   \n",
       "2                               2                           1   \n",
       "3                               2                           1   \n",
       "4                               1                           1   \n",
       "..                            ...                         ...   \n",
       "117                             7                           1   \n",
       "118                             2                           1   \n",
       "119                             1                           1   \n",
       "120                             4                           1   \n",
       "121                             1                           1   \n",
       "\n",
       "     total_entretenimiento/deporte_bk  inclusion  total_inclusion  ninios_bk  \\\n",
       "0                                   1          0                0          1   \n",
       "1                                   5          0                0          0   \n",
       "2                                   7          0                0          1   \n",
       "3                                   1          0                0          1   \n",
       "4                                   1          0                0          1   \n",
       "..                                ...        ...              ...        ...   \n",
       "117                                15          0                0          0   \n",
       "118                                11          0                0          1   \n",
       "119                                 1          0                0          0   \n",
       "120                                13          0                0          0   \n",
       "121                                 3          0                0          1   \n",
       "\n",
       "     total_ninios_bk  comida/bebida_bk  total_comida/bebida_bk  \n",
       "0                  1                 0                       0  \n",
       "1                  0                 1                       1  \n",
       "2                  1                 0                       0  \n",
       "3                  1                 1                       1  \n",
       "4                  2                 0                       0  \n",
       "..               ...               ...                     ...  \n",
       "117                0                 1                       4  \n",
       "118                3                 1                       4  \n",
       "119                0                 0                       0  \n",
       "120                0                 1                       6  \n",
       "121                1                 1                       1  \n",
       "\n",
       "[122 rows x 36 columns]"
      ]
     },
     "execution_count": 2,
     "metadata": {},
     "output_type": "execute_result"
    }
   ],
   "source": [
    "hoteles = pd.read_csv('./data2/hoteles_compartidos.csv')\n",
    "hoteles"
   ]
  },
  {
   "cell_type": "code",
   "execution_count": 3,
   "metadata": {},
   "outputs": [
    {
     "data": {
      "text/plain": [
       "Bacalar         61\n",
       "Isla Mujeres    32\n",
       "Loreto          14\n",
       "Mazunte          7\n",
       "Todos Santos     7\n",
       "Sisal            1\n",
       "Name: city_ta, dtype: int64"
      ]
     },
     "execution_count": 3,
     "metadata": {},
     "output_type": "execute_result"
    }
   ],
   "source": [
    "hoteles.city_ta.value_counts()"
   ]
  },
  {
   "cell_type": "markdown",
   "metadata": {},
   "source": [
    "# Correlaciones"
   ]
  },
  {
   "cell_type": "markdown",
   "metadata": {},
   "source": [
    "## Con estrellas"
   ]
  },
  {
   "cell_type": "code",
   "execution_count": 14,
   "metadata": {},
   "outputs": [
    {
     "name": "stdout",
     "output_type": "stream",
     "text": [
      "Estrellas\n",
      "bk\n",
      "Correlación de kendall = -0.0775\n",
      "Correlación de pearson = -0.0706\n",
      "Correlación de spearman = -0.1076\n",
      "ta\n",
      "Correlación de kendall = -0.2920\n",
      "Correlación de pearson = -0.3952\n",
      "Correlación de spearman = -0.3768\n"
     ]
    }
   ],
   "source": [
    "print(\"Estrellas\")\n",
    "for p in [\"bk\",\"ta\"]:\n",
    "    print(p)\n",
    "    for m in [\"kendall\",\"pearson\",\"spearman\"]:\n",
    "        corr =hoteles[f\"stars_{p}\"].corr(hoteles[f\"rank_{p}\"], method=m) #Booking porque son oficiales\n",
    "        \n",
    "        print(f\"Correlación de {m} = {corr:.4f}\")"
   ]
  },
  {
   "cell_type": "markdown",
   "metadata": {},
   "source": [
    "## Con rating"
   ]
  },
  {
   "cell_type": "code",
   "execution_count": 13,
   "metadata": {},
   "outputs": [
    {
     "name": "stdout",
     "output_type": "stream",
     "text": [
      "Rating\n",
      "bk\n",
      "Correlación de kendall = -0.0630\n",
      "Correlación de pearson = -0.0592\n",
      "Correlación de spearman = -0.0912\n",
      "ta\n",
      "Correlación de kendall = 0.0429\n",
      "Correlación de pearson = 0.0357\n",
      "Correlación de spearman = 0.0531\n"
     ]
    }
   ],
   "source": [
    "print(\"Rating\")\n",
    "for p in [\"bk\",\"ta\"]:\n",
    "    print(p)\n",
    "    for m in [\"kendall\",\"pearson\",\"spearman\"]:\n",
    "        corr =hoteles[f\"rating_{p}\"].corr(hoteles[f\"rank_{p}\"], method=m) \n",
    "        \n",
    "        print(f\"Correlación de {m} = {corr:.4f}\")"
   ]
  },
  {
   "cell_type": "markdown",
   "metadata": {},
   "source": [
    "## Con comentarios"
   ]
  },
  {
   "cell_type": "code",
   "execution_count": 16,
   "metadata": {},
   "outputs": [
    {
     "name": "stdout",
     "output_type": "stream",
     "text": [
      "Comentarios\n",
      "bk\n",
      "Correlación de kendall = 0.1114\n",
      "Correlación de pearson = 0.1998\n",
      "Correlación de spearman = 0.1720\n",
      "ta\n",
      "Correlación de kendall = -0.2252\n",
      "Correlación de pearson = -0.2066\n",
      "Correlación de spearman = -0.3186\n"
     ]
    }
   ],
   "source": [
    "print(\"Comentarios\")\n",
    "for p in [\"bk\",\"ta\"]:\n",
    "    print(p)\n",
    "    for m in [\"kendall\",\"pearson\",\"spearman\"]:\n",
    "        corr =hoteles[f\"comments_{p}\"].corr(hoteles[f\"rank_{p}\"], method=m) \n",
    "        \n",
    "        print(f\"Correlación de {m} = {corr:.4f}\")"
   ]
  },
  {
   "cell_type": "markdown",
   "metadata": {},
   "source": [
    "## General"
   ]
  },
  {
   "cell_type": "code",
   "execution_count": 4,
   "metadata": {},
   "outputs": [
    {
     "data": {
      "text/plain": [
       "0.29458296983315135"
      ]
     },
     "execution_count": 4,
     "metadata": {},
     "output_type": "execute_result"
    }
   ],
   "source": [
    "hoteles.rank_bk.corr(hoteles.rank_ta, method=\"kendall\")"
   ]
  },
  {
   "cell_type": "code",
   "execution_count": 5,
   "metadata": {},
   "outputs": [
    {
     "data": {
      "text/plain": [
       "0.3452791628566303"
      ]
     },
     "execution_count": 5,
     "metadata": {},
     "output_type": "execute_result"
    }
   ],
   "source": [
    "hoteles.rank_bk.corr(hoteles.rank_ta, method=\"pearson\")"
   ]
  },
  {
   "cell_type": "code",
   "execution_count": 6,
   "metadata": {},
   "outputs": [
    {
     "data": {
      "text/plain": [
       "0.4193484970711641"
      ]
     },
     "execution_count": 6,
     "metadata": {},
     "output_type": "execute_result"
    }
   ],
   "source": [
    "hoteles.rank_bk.corr(hoteles.rank_ta, method=\"spearman\")"
   ]
  },
  {
   "cell_type": "code",
   "execution_count": 45,
   "metadata": {},
   "outputs": [],
   "source": [
    "#!mkdir plots"
   ]
  },
  {
   "cell_type": "code",
   "execution_count": 72,
   "metadata": {},
   "outputs": [
    {
     "data": {
      "image/png": "[encoded data removed]",
      "text/plain": [
       "<Figure size 1152x648 with 1 Axes>"
      ]
     },
     "metadata": {},
     "output_type": "display_data"
    }
   ],
   "source": [
    "plt.figure(figsize=(16,9))\n",
    "sns.regplot(data=hoteles, x=\"rank_bk\", y=\"rank_ta\", ci=95)\n",
    "plt.title(\"Comparación de posiciones\\nentre TripAdvisor y Booking\", size=20)\n",
    "plt.xlabel(\"Posición en Booking\", size=14)\n",
    "plt.ylabel(\"Posición en TripAdvisor\",size=14)\n",
    "plt.savefig(\"./plots/compGralTABK.svg\")\n",
    "plt.show()"
   ]
  },
  {
   "cell_type": "markdown",
   "metadata": {},
   "source": [
    "## Por estrellas"
   ]
  },
  {
   "cell_type": "markdown",
   "metadata": {},
   "source": [
    "Solo aplica para después de dos estrellas, dado que solamente hay un hotel con una estrella en TA"
   ]
  },
  {
   "cell_type": "code",
   "execution_count": 19,
   "metadata": {},
   "outputs": [
    {
     "name": "stdout",
     "output_type": "stream",
     "text": [
      "2 ESTRELLAS\n",
      "La correlación Kendall Tao es de 0.0753\n",
      "La correlación Pearson es de 0.0378\n",
      "La correlación Spearman es de 0.1280\n",
      "\n",
      "\n",
      "3 ESTRELLAS\n",
      "La correlación Kendall Tao es de 0.3847\n",
      "La correlación Pearson es de 0.4715\n",
      "La correlación Spearman es de 0.5155\n",
      "\n",
      "\n",
      "4 ESTRELLAS\n",
      "La correlación Kendall Tao es de 0.2060\n",
      "La correlación Pearson es de 0.2441\n",
      "La correlación Spearman es de 0.3005\n",
      "\n",
      "\n",
      "5 ESTRELLAS\n",
      "La correlación Kendall Tao es de 0.4089\n",
      "La correlación Pearson es de 0.2738\n",
      "La correlación Spearman es de 0.5641\n",
      "\n",
      "\n"
     ]
    }
   ],
   "source": [
    "for s in range(2,6):\n",
    "    estrellas = hoteles[(hoteles.stars_bk==s)|(hoteles.stars_ta==s)]\n",
    "\n",
    "    kendall = estrellas.rank_bk.corr(estrellas.rank_ta, method=\"kendall\")\n",
    "    pearson = estrellas.rank_bk.corr(estrellas.rank_ta, method=\"pearson\")\n",
    "    spearman = estrellas.rank_bk.corr(estrellas.rank_ta, method=\"spearman\")\n",
    "\n",
    "    print(f\"{s} ESTRELLAS\")\n",
    "    print(f\"La correlación Kendall Tao es de {kendall:.4f}\")\n",
    "    print(f\"La correlación Pearson es de {pearson:.4f}\")\n",
    "    print(f\"La correlación Spearman es de {spearman:.4f}\")\n",
    "    print(\"\\n\")"
   ]
  },
  {
   "cell_type": "markdown",
   "metadata": {},
   "source": [
    "## Por pueblo mágico"
   ]
  },
  {
   "cell_type": "markdown",
   "metadata": {},
   "source": [
    "Solo aplica para después de dos estrellas, dado que solamente hay un hotel con una estrella"
   ]
  },
  {
   "cell_type": "code",
   "execution_count": 49,
   "metadata": {},
   "outputs": [
    {
     "name": "stdout",
     "output_type": "stream",
     "text": [
      "BACALAR\n",
      "La correlación Kendall Tao es de -0.0033\n",
      "La correlación Pearson es de -0.0209\n",
      "La correlación Spearman es de -0.0016\n",
      "\n",
      "\n",
      "ISLA MUJERES\n",
      "La correlación Kendall Tao es de -0.0806\n",
      "La correlación Pearson es de -0.0823\n",
      "La correlación Spearman es de -0.0960\n",
      "\n",
      "\n",
      "LORETO\n",
      "La correlación Kendall Tao es de 0.3187\n",
      "La correlación Pearson es de 0.4795\n",
      "La correlación Spearman es de 0.4681\n",
      "\n",
      "\n",
      "MAZUNTE\n",
      "La correlación Kendall Tao es de 0.2381\n",
      "La correlación Pearson es de 0.3184\n",
      "La correlación Spearman es de 0.1786\n",
      "\n",
      "\n",
      "TODOS SANTOS\n",
      "La correlación Kendall Tao es de 0.4286\n",
      "La correlación Pearson es de 0.5723\n",
      "La correlación Spearman es de 0.5714\n",
      "\n",
      "\n"
     ]
    }
   ],
   "source": [
    "for pm in hoteles.city_ta.unique():\n",
    "    pueblo = hoteles[(hoteles.city_ta==pm)]\n",
    "    if pueblo.shape[0]==1:\n",
    "        continue\n",
    "    kendall = pueblo.rank_bk.corr(pueblo.rank_ta, method=\"kendall\")\n",
    "    pearson = pueblo.rank_bk.corr(pueblo.rank_ta, method=\"pearson\")\n",
    "    spearman = pueblo.rank_bk.corr(pueblo.rank_ta, method=\"spearman\")\n",
    "\n",
    "    print(pm.upper())\n",
    "    print(f\"La correlación Kendall Tao es de {kendall:.4f}\")\n",
    "    print(f\"La correlación Pearson es de {pearson:.4f}\")\n",
    "    print(f\"La correlación Spearman es de {spearman:.4f}\")\n",
    "    print(\"\\n\")"
   ]
  },
  {
   "cell_type": "markdown",
   "metadata": {},
   "source": [
    "La correlación no es relevante"
   ]
  },
  {
   "cell_type": "code",
   "execution_count": null,
   "metadata": {},
   "outputs": [],
   "source": []
  }
 ],
 "metadata": {
  "kernelspec": {
   "display_name": "Python 3",
   "language": "python",
   "name": "python3"
  },
  "language_info": {
   "codemirror_mode": {
    "name": "ipython",
    "version": 3
   },
   "file_extension": ".py",
   "mimetype": "text/x-python",
   "name": "python",
   "nbconvert_exporter": "python",
   "pygments_lexer": "ipython3",
   "version": "3.8.2"
  }
 },
 "nbformat": 4,
 "nbformat_minor": 4
}
